{
 "cells": [
  {
   "cell_type": "code",
   "execution_count": 9,
   "id": "dcfb7272",
   "metadata": {},
   "outputs": [],
   "source": [
    "from sqlalchemy import create_engine\n",
    "import pandas as pd"
   ]
  },
  {
   "cell_type": "code",
   "execution_count": 10,
   "id": "751642fe",
   "metadata": {},
   "outputs": [],
   "source": [
    "%matplotlib inline"
   ]
  },
  {
   "cell_type": "code",
   "execution_count": 11,
   "id": "68dcf1e0",
   "metadata": {},
   "outputs": [
    {
     "name": "stdout",
     "output_type": "stream",
     "text": [
      "(1, None, 'Arlena', 'Riveles', None, 'ariveles0@stumbleupon.com', 'F', '98.36.172.246', None, None, None, None, None, None, None, datetime.datetime(2017, 4, 23, 0, 0))\n",
      "(2, 'Dr', 'Ode', 'Stovin', None, 'ostovin1@npr.org', 'M', '16.97.59.186', '314-534-4361', '2573 Fordem Parkway', 'Saint Louis', 'MO', '63116', 38.5814, -90.2625, datetime.datetime(2014, 10, 2, 0, 0))\n"
     ]
    }
   ],
   "source": [
    "from sqlalchemy import create_engine, text\n",
    "from urllib.parse import quote  # Not 'parse'!\n",
    "\n",
    "# URL-encode the password to avoid breaking the connection string\n",
    "password = quote(\"Educ@tion4all!\")\n",
    "\n",
    "# Build connection string\n",
    "cnxn_string = \"postgresql+psycopg2://{username}:{pswd}@{host}:{port}/{database}\"\n",
    "\n",
    "engine = create_engine(cnxn_string.format(\n",
    "    username=\"postgres\",\n",
    "    pswd=password,\n",
    "    host=\"localhost\",\n",
    "    port=5432,\n",
    "    database=\"sqlda\"\n",
    "))\n",
    "\n",
    "# Try running a simple query\n",
    "with engine.connect() as conn:\n",
    "    result = conn.execute(text(\"SELECT * FROM customers LIMIT 2;\"))\n",
    "    rows = result.fetchall()\n",
    "\n",
    "for row in rows:\n",
    "    print(row)\n"
   ]
  }
 ],
 "metadata": {
  "kernelspec": {
   "display_name": ".venv",
   "language": "python",
   "name": "python3"
  },
  "language_info": {
   "codemirror_mode": {
    "name": "ipython",
    "version": 3
   },
   "file_extension": ".py",
   "mimetype": "text/x-python",
   "name": "python",
   "nbconvert_exporter": "python",
   "pygments_lexer": "ipython3",
   "version": "3.13.3"
  }
 },
 "nbformat": 4,
 "nbformat_minor": 5
}
